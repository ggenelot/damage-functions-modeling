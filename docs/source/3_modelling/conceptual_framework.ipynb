{
 "cells": [
  {
   "cell_type": "markdown",
   "metadata": {},
   "source": [
    "## Conceptual framework"
   ]
  },
  {
   "cell_type": "markdown",
   "metadata": {},
   "source": [
    "The goal of this part is to determine which variable explains the level of damage as an output of the damage function. To do so, we will proceed to an econometric regression of the level of damage by other explanatory variables. \n",
    "\n",
    "The general idea is that the quantitative level of damage given by the model is driven by multiple factors : \n",
    "\n",
    "- physical drivers, such as the level of climate change (temperature change, radiative forcing, etc.)\n",
    "- methodological drivers, such as the choice of this or that modelling choice\n",
    "- ethical drivers, such as the way spatial, social or generational equities are represented\n",
    "\n",
    "In order to quantitatively assess the role of each factor in the model, we will perform linear regressions, in which the level of damage is assumed to be explained by a set of explanatory variables. These explanatory variables have been choosen or designed to be representative of one of the above mentionned choices. \n",
    "\n",
    "The general form is the following : \n",
    "\n",
    "$$\n",
    "\n",
    "\n",
    "\\begin{align*}\n",
    "\\text{damage} = & \\ \\beta_0  + \\underbrace{\\beta_1 \\cdot \\text{temperature} + \\beta_2 \\cdot \\text{radiative forcing}}_\\text{Physical variables}  + \\underbrace{\\beta_3 \\cdot \\text{equation}}_\\text{Methodological variables} \\\\\n",
    "& + \\underbrace{\\beta_1 \\cdot \\text{exponent} + \\beta_2 \\cdot \\text{normalisation constant} + \\beta_2 \\cdot \\text{discount rate} + \\beta_2 \\cdot \\text{social parameter}}_\\text{Ethical variables}  + \\epsilon\n",
    "\\end{align*}\n",
    "\n",
    "$$\n",
    "\n",
    "where:\n",
    "- $\\text{damage}$ is the level of damage\n",
    "- $\\beta_0$ is the intercept term\n",
    "- $\\beta_1, \\beta_2, \\ldots, \\beta_n$ are the coefficients of the variables\n",
    "- $\\text{exponent}, \\text{normalisation constant}, \\ldots, \\text{temperature}$ are the independent variables\n",
    "- $\\epsilon$ is the error term\n",
    "\n",
    "\n",
    "The form of the damage functions in the model is : \n",
    "\n",
    "$$\n",
    "\n",
    "D_{t,r} = f(\\text{temperature}, \\text{other drivers})_{t,r} \\cdot GDP_{t,r} \\cdot (\\frac{y_{t,r}}{y_0})^\\alpha\n",
    "\n",
    "$$\n",
    "\n",
    "$$\n",
    "\n",
    "\\text{Total damage} = \\sum D_{t,r}\n",
    "\n",
    "$$"
   ]
  }
 ],
 "metadata": {
  "language_info": {
   "name": "python"
  }
 },
 "nbformat": 4,
 "nbformat_minor": 2
}
