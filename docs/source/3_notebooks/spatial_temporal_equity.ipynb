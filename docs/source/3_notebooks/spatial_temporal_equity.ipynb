{
 "cells": [
  {
   "cell_type": "markdown",
   "metadata": {},
   "source": [
    "## Temporal and spatial equity\n",
    "\n",
    "One of the main criticism faces by integrated assesmment models is that of the temporal equity. Indeed, optimisation models need to be able to compare decisions to select the optimal one among a set of possibilities. This includes comparing decisions that have an effect now and others that have an effect later. A way to compare future impacts of climate change with current investment, for example, is by discounting the future value of these impacts in the way they are accounted for in the present. This reflects the preference for present benefits over futur ones. \n",
    "\n"
   ]
  },
  {
   "cell_type": "code",
   "execution_count": null,
   "metadata": {},
   "outputs": [],
   "source": []
  },
  {
   "cell_type": "markdown",
   "metadata": {},
   "source": [
    "### Temporal equity"
   ]
  },
  {
   "cell_type": "code",
   "execution_count": null,
   "metadata": {},
   "outputs": [],
   "source": []
  },
  {
   "cell_type": "markdown",
   "metadata": {},
   "source": [
    "### Spatial equity"
   ]
  },
  {
   "cell_type": "code",
   "execution_count": null,
   "metadata": {},
   "outputs": [],
   "source": []
  }
 ],
 "metadata": {
  "kernelspec": {
   "display_name": "Python 3",
   "language": "python",
   "name": "python3"
  },
  "language_info": {
   "name": "python",
   "version": "3.12.2"
  }
 },
 "nbformat": 4,
 "nbformat_minor": 2
}
